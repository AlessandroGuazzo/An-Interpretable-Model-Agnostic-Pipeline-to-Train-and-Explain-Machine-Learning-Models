{
 "cells": [
  {
   "cell_type": "code",
   "execution_count": null,
   "metadata": {},
   "outputs": [],
   "source": [
    "%pip install pandas numpy matplotlib"
   ]
  },
  {
   "cell_type": "code",
   "execution_count": null,
   "metadata": {},
   "outputs": [],
   "source": [
    "import pandas as pd\n",
    "import numpy as np\n",
    "import pickle\n",
    "import warnings\n",
    "import matplotlib.pyplot as plt\n",
    "\n",
    "# user attention required HERE -----------------------------------------------\n",
    "#-----------------------------------------------------------------------------\n",
    "\n",
    "# Insert here model type, data, and outcome columns names\n",
    "model_name = \"Cox\"\n",
    "data_name_boot = \"mock_boots.csv\"\n",
    "outcome_name = \"outcome\"\n",
    "outcome_time = \"outcome_time\"\n",
    "#------------------------------------------------------------------------------\n",
    "\n",
    "warnings.filterwarnings('ignore')\n",
    "\n",
    "np.random.seed(seed=7)\n",
    "\n",
    "savestr = model_name\n",
    "\n",
    "# Load the data\n",
    "data_original = pd.read_csv(data_name_boot)\n",
    "\n",
    "data = data_original.copy()\n",
    "del data[\"boot\"]\n",
    "del data[outcome_name]\n",
    "del data[outcome_time]\n",
    "\n",
    "# Load pipeline optimization results\n",
    "final_res = pickle.load(open(\"backward_optimisation_results_\" + savestr + \".p\", \"rb\"))\n",
    "\n",
    "best_final_res = []\n",
    "\n",
    "for i in range(len(final_res)):\n",
    "    best_final_res.append(max(np.asarray(final_res[i])[:,1]))\n",
    "best_final_res = np.asarray(best_final_res)\n",
    "\n",
    "# Show bootstrap performance\n",
    "print(\"Percentile 25 C-Index on \" + str(len(best_final_res)) + \" bootstraps: \" + str(round(np.percentile(best_final_res,25),3)))\n",
    "print(\"Median C-Index on \" + str(len(best_final_res)) + \" bootstraps: \" + str(round(np.median(best_final_res),3)))\n",
    "print(\"Percentile 75 C-Index on \" + str(len(best_final_res)) + \" bootstraps: \" + str(round(np.percentile(best_final_res,75),3)))"
   ]
  },
  {
   "cell_type": "code",
   "execution_count": 5,
   "metadata": {},
   "outputs": [],
   "source": [
    "# Computations for feature selection\n",
    "\n",
    "covariates_names = data.columns\n",
    "max_len = len(covariates_names)\n",
    "worst_covariates = pickle.load(open(\"backward_worst_covariates_\" + savestr + \".p\", \"rb\"))\n",
    "\n",
    "rank = []\n",
    "\n",
    "for i in range(len(worst_covariates)):\n",
    "    ranks = np.zeros(len(covariates_names))\n",
    "    ranks[worst_covariates[i]] = ranks[worst_covariates[i]] + np.arange(len(worst_covariates[i])-1,-1,-1)\n",
    "    rank.append(ranks)\n",
    "\n",
    "mean_ranks = np.mean(np.asarray(rank),0)\n",
    "std_ranks = np.std(np.asarray(rank),0)\n",
    "ranks_25 =  abs(mean_ranks - np.percentile(np.asarray(rank),axis=0,q=5))\n",
    "ranks_75 =  abs(np.percentile(np.asarray(rank),axis=0,q=95) - mean_ranks)\n",
    "\n",
    "var_performances = []\n",
    "for i in range(len(covariates_names)):\n",
    "    var_performances.append([])\n",
    "\n",
    "for i in range(len(final_res)):\n",
    "    for j in range(len(final_res[i])):\n",
    "        var_performances[j].append(final_res[i][j][1])\n",
    "\n",
    "mean_perf = []\n",
    "perc_25 = []\n",
    "perc_75 = []\n",
    "for i in range(len(var_performances)):\n",
    "    mean_perf.append(np.median(var_performances[i]))\n",
    "    perc_25.append(np.median(var_performances[i])-np.percentile(var_performances[i],25))\n",
    "    perc_75.append(np.percentile(var_performances[i],75)-np.median(var_performances[i]))\n",
    "    \n",
    "sort_idx = np.argsort(-mean_ranks)"
   ]
  },
  {
   "cell_type": "code",
   "execution_count": null,
   "metadata": {},
   "outputs": [],
   "source": [
    "# Plot figure for model performance\n",
    "# WARNING: you may need to change axis limit according to your results\n",
    "plt.figure( figsize=(10,5))\n",
    "plt.errorbar(np.arange(max_len,0,-1),mean_perf, yerr=np.array(list(zip(perc_25, perc_75))).T, fmt = 'o',color = 'red', ecolor = 'black', elinewidth = 2, capsize=5, markersize = 6, markeredgewidth=2)\n",
    "plt.xlabel(\"Number of variables\")\n",
    "plt.ylabel(\"C-Index\")\n",
    "plt.xticks(range(1,max_len+1))\n",
    "plt.yticks(np.arange(0.6,0.8,0.05))\n",
    "plt.ylim([0.6,0.8])\n",
    "plt.grid(\"both\")\n",
    "plt.show()"
   ]
  },
  {
   "cell_type": "code",
   "execution_count": null,
   "metadata": {},
   "outputs": [],
   "source": [
    "# Plot feature ranking figure\n",
    "plt.figure( figsize=(7,10))\n",
    "plt.errorbar(mean_ranks[sort_idx], covariates_names[sort_idx], xerr = np.array(list(zip(ranks_25[sort_idx], ranks_75[sort_idx]))).T, fmt = 'o',color = 'red', ecolor = 'black', elinewidth = 2, capsize=5, markersize=6, markeredgewidth=2)\n",
    "plt.xlabel(\"Variable rank, mean, 5th-95th percentile\")\n",
    "plt.grid(axis=\"y\")\n",
    "plt.show()"
   ]
  }
 ],
 "metadata": {
  "kernelspec": {
   "display_name": ".venv",
   "language": "python",
   "name": "python3"
  },
  "language_info": {
   "codemirror_mode": {
    "name": "ipython",
    "version": 3
   },
   "file_extension": ".py",
   "mimetype": "text/x-python",
   "name": "python",
   "nbconvert_exporter": "python",
   "pygments_lexer": "ipython3",
   "version": "3.12.3"
  }
 },
 "nbformat": 4,
 "nbformat_minor": 2
}
