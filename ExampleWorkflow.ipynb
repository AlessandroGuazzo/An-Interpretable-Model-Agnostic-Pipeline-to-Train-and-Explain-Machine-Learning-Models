{
 "cells": [
  {
   "cell_type": "markdown",
   "metadata": {},
   "source": [
    "# Example workflow\n",
    "This notebook showcases some complete workflow examples."
   ]
  },
  {
   "cell_type": "code",
   "execution_count": null,
   "metadata": {},
   "outputs": [],
   "source": [
    "%pip install pandas numpy scikit-survival scikit-learn scipy"
   ]
  },
  {
   "cell_type": "markdown",
   "metadata": {},
   "source": [
    "### Generate mock data"
   ]
  },
  {
   "cell_type": "code",
   "execution_count": null,
   "metadata": {},
   "outputs": [],
   "source": [
    "import os\n",
    "import pandas as pd\n",
    "import numpy as np\n",
    "\n",
    "# Generate mock data\n",
    "n_samples = 200  # Number of samples\n",
    "n_features = 5   # Number of feature columns\n",
    "n_bootstraps = 10  # Number of bootstrap iterations\n",
    "\n",
    "data = {\n",
    "    \"outcome\": np.random.choice([0, 1], size=n_samples),  # Binary outcome\n",
    "    \"outcome_time\": np.random.exponential(scale=10, size=n_samples),  # Survival times\n",
    "}\n",
    "\n",
    "# Add feature columns\n",
    "for i in range(1, n_features + 1):\n",
    "    data[f\"feature_{i}\"] = np.random.normal(size=n_samples)\n",
    "\n",
    "# Create a DataFrame\n",
    "mock_data = pd.DataFrame(data)\n",
    "\n",
    "# Save to CSV for script compatibility\n",
    "os.makedirs(\"dataset/mock\", exist_ok=True)\n",
    "mock_data.to_csv(\"dataset/mock/mock_data.csv\", index=False)\n",
    "print(\"Mock data created and saved as 'dataset/mock/mock_data.csv'.\")\n"
   ]
  },
  {
   "cell_type": "code",
   "execution_count": null,
   "metadata": {},
   "outputs": [],
   "source": [
    "import pandas as pd\n",
    "import numpy as np\n",
    "\n",
    "# Load the mock data\n",
    "mock_data = pd.read_csv(\"dataset/mock/mock_data.csv\")\n",
    "\n",
    "# Number of bootstrap iterations\n",
    "n_bootstraps = 10\n",
    "n_samples = len(mock_data)\n",
    "\n",
    "# Create a list to store bootstrap results\n",
    "bootstrap_results = []\n",
    "\n",
    "for i in range(1, n_bootstraps + 1):\n",
    "    # Random sampling with replacement\n",
    "    sampled_indices = np.random.choice(mock_data.index, size=n_samples, replace=True)\n",
    "    not_sampled_indices = list(set(mock_data.index) - set(sampled_indices))\n",
    "\n",
    "    # Create bootstrap DataFrame for sampled data\n",
    "    sampled_data = mock_data.loc[sampled_indices].copy()\n",
    "    sampled_data[\"boot\"] = i*2 - 1\n",
    "\n",
    "    # Create bootstrap DataFrame for not sampled data\n",
    "    not_sampled_data = mock_data.loc[not_sampled_indices].copy()\n",
    "    not_sampled_data[\"boot\"] = i*2\n",
    "\n",
    "    # Append both sampled and not sampled data for this bootstrap iteration\n",
    "    bootstrap_results.append(sampled_data)\n",
    "    bootstrap_results.append(not_sampled_data)\n",
    "\n",
    "# Concatenate all bootstrap results into a single DataFrame\n",
    "final_bootstrap_data = pd.concat(bootstrap_results, ignore_index=True)\n",
    "\n",
    "# Save to CSV\n",
    "final_bootstrap_data.to_csv(\"dataset/mock/mock_boots.csv\", index=False)\n",
    "\n",
    "print(\"Bootstrap data created and saved as 'dataset/mock/mock_boots.csv'.\")"
   ]
  },
  {
   "cell_type": "markdown",
   "metadata": {},
   "source": [
    "### Run Cox model on mock data"
   ]
  },
  {
   "cell_type": "code",
   "execution_count": null,
   "metadata": {},
   "outputs": [],
   "source": [
    "import importlib\n",
    "import pipelineBackward\n",
    "importlib.reload(pipelineBackward)\n",
    "\n",
    "\n",
    "pipelineBackward.run_pipeline_backward(\"Cox\", \"dataset/mock/mock_boots.csv\")\n"
   ]
  }
 ],
 "metadata": {
  "kernelspec": {
   "display_name": ".venv",
   "language": "python",
   "name": "python3"
  },
  "language_info": {
   "codemirror_mode": {
    "name": "ipython",
    "version": 3
   },
   "file_extension": ".py",
   "mimetype": "text/x-python",
   "name": "python",
   "nbconvert_exporter": "python",
   "pygments_lexer": "ipython3",
   "version": "3.12.3"
  }
 },
 "nbformat": 4,
 "nbformat_minor": 2
}
